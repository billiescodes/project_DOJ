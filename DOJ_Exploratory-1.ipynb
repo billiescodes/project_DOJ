{
 "cells": [
  {
   "cell_type": "markdown",
   "metadata": {},
   "source": [
    "# Exploring data on prompt #2 ( the first Notebook) \n",
    "\n",
    "Author: Biljana(Billie) Rolih\n",
    "\n",
    "\n",
    "###Data Sets\n",
    "+ testing data set: from year 2013\n",
    "+ ca_doj_arrests_deidentified_2013_05-07-2016.csv\n",
    "\n",
    "2. Look at year: 2013\n",
    "\n",
    "\n",
    "## Observations for the Department of Justice project\n",
    "    + Gender breakdown male/female arrests:\n",
    "        + adults: 76/24 %\n",
    "        + juvies: 73/27 %\n",
    "        + juveniles have a slightly higher percentage of female arrests\n",
    "\n",
    "    + Juveniles:\n",
    "Looking at raw numbers, far more Hispanics are being arrested than any other group. However at the police station they are not being treated as harshly as Blacks. Black juveniles  are the only ethnic group being booked more often than being cited. From plot #2: Black Juveniles are being booked about 53% of the time, while being cited about 33% of the time. Hispanic Juveniles are being cited slightly more often (41% of the time) than being booked (40%).  Asian Juveniles are by far the least likely to be booked (28% of the time), and are cited about as often as white juvies (48% and 49% respecitvely). White juveniles are slightly more likely to be booked than Asian juveniles (34%). All other ethnic groups, are experiencing roughly the same treatment as white juveniles. \n",
    "\n",
    "## Do Next\n",
    "+ create png files of the plots\n",
    "+ put on README on git\n",
    "+ look at BCS codes"
   ]
  },
  {
   "cell_type": "code",
   "execution_count": 1,
   "metadata": {
    "collapsed": true
   },
   "outputs": [],
   "source": [
    "import pandas as pd\n",
    "import numpy as np\n",
    "import matplotlib.pyplot as plt\n",
    "import matplotlib as mpl\n",
    "\n",
    "%matplotlib inline"
   ]
  },
  {
   "cell_type": "code",
   "execution_count": null,
   "metadata": {
    "collapsed": true
   },
   "outputs": [],
   "source": [
    "##################### only applies when working in AzureML workspace ###################\n",
    "#Load DOJ arrests data from AzureML Datasets\n",
    "#from azureml import Workspace\n",
    "#ws = Workspace()\n",
    "#ds = ws.datasets['ca_doj_arrests_deidentified_2013_05-07-2016.csv']\n",
    "#frame = ds.to_dataframe()"
   ]
  },
  {
   "cell_type": "code",
   "execution_count": 2,
   "metadata": {
    "collapsed": true
   },
   "outputs": [],
   "source": [
    "import warnings\n",
    "warnings.filterwarnings('ignore')"
   ]
  },
  {
   "cell_type": "code",
   "execution_count": 3,
   "metadata": {
    "collapsed": false
   },
   "outputs": [],
   "source": [
    "frame = pd.read_csv('../data/ca_doj_arrests_deidentified_2013_05-07-2016.csv')\n"
   ]
  },
  {
   "cell_type": "code",
   "execution_count": 4,
   "metadata": {
    "collapsed": false
   },
   "outputs": [
    {
     "data": {
      "text/html": [
       "<div>\n",
       "<table border=\"1\" class=\"dataframe\">\n",
       "  <thead>\n",
       "    <tr style=\"text-align: right;\">\n",
       "      <th></th>\n",
       "      <th>county</th>\n",
       "      <th>agency_name</th>\n",
       "      <th>agency_code</th>\n",
       "      <th>arrest_year</th>\n",
       "      <th>arrest_month</th>\n",
       "      <th>arrest_day</th>\n",
       "      <th>race_or_ethnicity</th>\n",
       "      <th>gender</th>\n",
       "      <th>age_group</th>\n",
       "      <th>summary_offense_level</th>\n",
       "      <th>offense_level</th>\n",
       "      <th>bcs_offense_code</th>\n",
       "      <th>bcs_summary_offence_code</th>\n",
       "      <th>fbi_offense_code</th>\n",
       "      <th>status_type</th>\n",
       "      <th>disposition</th>\n",
       "    </tr>\n",
       "  </thead>\n",
       "  <tbody>\n",
       "    <tr>\n",
       "      <th>0</th>\n",
       "      <td>Alameda</td>\n",
       "      <td>Alameda Co. Sheriff's Department</td>\n",
       "      <td>100</td>\n",
       "      <td>2013</td>\n",
       "      <td>1</td>\n",
       "      <td>1</td>\n",
       "      <td>White</td>\n",
       "      <td>male</td>\n",
       "      <td>adult</td>\n",
       "      <td>felony</td>\n",
       "      <td>felony</td>\n",
       "      <td>372</td>\n",
       "      <td>6</td>\n",
       "      <td>04</td>\n",
       "      <td>booked</td>\n",
       "      <td>felony complaint sought</td>\n",
       "    </tr>\n",
       "    <tr>\n",
       "      <th>1</th>\n",
       "      <td>Alameda</td>\n",
       "      <td>Alameda Co. Sheriff's Department</td>\n",
       "      <td>100</td>\n",
       "      <td>2013</td>\n",
       "      <td>1</td>\n",
       "      <td>1</td>\n",
       "      <td>Hispanic</td>\n",
       "      <td>male</td>\n",
       "      <td>adult</td>\n",
       "      <td>felony</td>\n",
       "      <td>felony</td>\n",
       "      <td>372</td>\n",
       "      <td>6</td>\n",
       "      <td>04</td>\n",
       "      <td>booked</td>\n",
       "      <td>felony complaint sought</td>\n",
       "    </tr>\n",
       "    <tr>\n",
       "      <th>2</th>\n",
       "      <td>Alameda</td>\n",
       "      <td>Alameda Co. Sheriff's Department</td>\n",
       "      <td>100</td>\n",
       "      <td>2013</td>\n",
       "      <td>1</td>\n",
       "      <td>1</td>\n",
       "      <td>Hispanic</td>\n",
       "      <td>male</td>\n",
       "      <td>adult</td>\n",
       "      <td>felony</td>\n",
       "      <td>felony</td>\n",
       "      <td>320</td>\n",
       "      <td>6</td>\n",
       "      <td>04</td>\n",
       "      <td>booked</td>\n",
       "      <td>felony complaint sought</td>\n",
       "    </tr>\n",
       "  </tbody>\n",
       "</table>\n",
       "</div>"
      ],
      "text/plain": [
       "    county                       agency_name agency_code  arrest_year  \\\n",
       "0  Alameda  Alameda Co. Sheriff's Department         100         2013   \n",
       "1  Alameda  Alameda Co. Sheriff's Department         100         2013   \n",
       "2  Alameda  Alameda Co. Sheriff's Department         100         2013   \n",
       "\n",
       "   arrest_month  arrest_day race_or_ethnicity gender age_group  \\\n",
       "0             1           1             White   male     adult   \n",
       "1             1           1          Hispanic   male     adult   \n",
       "2             1           1          Hispanic   male     adult   \n",
       "\n",
       "  summary_offense_level offense_level  bcs_offense_code  \\\n",
       "0                felony        felony               372   \n",
       "1                felony        felony               372   \n",
       "2                felony        felony               320   \n",
       "\n",
       "   bcs_summary_offence_code fbi_offense_code status_type  \\\n",
       "0                         6               04      booked   \n",
       "1                         6               04      booked   \n",
       "2                         6               04      booked   \n",
       "\n",
       "               disposition  \n",
       "0  felony complaint sought  \n",
       "1  felony complaint sought  \n",
       "2  felony complaint sought  "
      ]
     },
     "execution_count": 4,
     "metadata": {},
     "output_type": "execute_result"
    }
   ],
   "source": [
    "frame.head(3)"
   ]
  },
  {
   "cell_type": "code",
   "execution_count": 4,
   "metadata": {
    "collapsed": false
   },
   "outputs": [
    {
     "data": {
      "text/plain": [
       "array(['felony', 'misdemeanor', 'juvenile'], dtype=object)"
      ]
     },
     "execution_count": 4,
     "metadata": {},
     "output_type": "execute_result"
    }
   ],
   "source": [
    "# Exploring the \n",
    "test = frame[['arrest_month', 'arrest_day']]\n",
    "frame['race_or_ethnicity'].unique()\n",
    "frame['age_group'].unique()\n",
    "frame[ 'status_type'].unique()\n",
    "frame['summary_offense_level'].unique()"
   ]
  },
  {
   "cell_type": "markdown",
   "metadata": {},
   "source": [
    "**questions**: \n",
    "___                      \n",
    "***                \n",
    "**'offense_level**:, what is 'status offense'?  \n",
    " ** summary_offense level** : felony v. misdemeanor v. juvenile \n",
    " **disposition**\n",
    "\n",
    "\n",
    "what happens after arrest?\n",
    "***"
   ]
  },
  {
   "cell_type": "code",
   "execution_count": 5,
   "metadata": {
    "collapsed": false
   },
   "outputs": [
    {
     "data": {
      "text/plain": [
       "array(['felony complaint sought', 'misdemeanor complaint sought',\n",
       "       'released', 'referred to juvenile probation department',\n",
       "       'handled within department', 'turned over to other agency'], dtype=object)"
      ]
     },
     "execution_count": 5,
     "metadata": {},
     "output_type": "execute_result"
    }
   ],
   "source": [
    "frame['disposition'].unique()"
   ]
  },
  {
   "cell_type": "code",
   "execution_count": 7,
   "metadata": {
    "collapsed": false
   },
   "outputs": [
    {
     "data": {
      "text/plain": [
       "misdemeanor       750985\n",
       "felony            442741\n",
       "status offense     11810\n",
       "Name: offense_level, dtype: int64"
      ]
     },
     "execution_count": 7,
     "metadata": {},
     "output_type": "execute_result"
    }
   ],
   "source": [
    "# these two, same thing:\n",
    "frame.loc[:,['offense_level']].groupby('offense_level').size().order(ascending=False)\n",
    "frame.offense_level.value_counts()"
   ]
  },
  {
   "cell_type": "code",
   "execution_count": 6,
   "metadata": {
    "collapsed": false
   },
   "outputs": [
    {
     "name": "stdout",
     "output_type": "stream",
     "text": [
      "% of male adult arrests 76.0% \n",
      "% of female adult arrests 24.0% \n"
     ]
    }
   ],
   "source": [
    "########### GENDER BREAKDOWN: ADULT ONLY ################\n",
    "\n",
    "adult_df = frame[frame['age_group']=='adult']\n",
    "\n",
    "adult_m = 100*float(adult_df.gender[adult_df.gender =='male'].count() )/ float(adult_df.gender.count())\n",
    "adult_f = 100*float(adult_df.gender[adult_df.gender =='female'].count() )/ float(adult_df.gender.count())\n",
    "\n",
    "print(\"% of male adult arrests {}% \". format(round(adult_m)))\n",
    "print(\"% of female adult arrests {}% \". format(round(adult_f)))"
   ]
  },
  {
   "cell_type": "markdown",
   "metadata": {},
   "source": [
    "### How to Classify HARSH vs. LENIENT punishment?  \n",
    "1. group ** Offense Level** ('felony', u'misdemeanor', u'juvenile') by ethnicity\n",
    "2. What happens after the arrest? There is a category ** status_type**\n",
    "    + what group gets \"booked\" (bad) vs. \"cited\" (good/better?)\n",
    "    + are there \n",
    "---\n",
    "** 1,108,599 adults vs. 96,937 juveniles **\n",
    "(1.1 Mil, vs. just under 97 thousand)\n",
    "\n",
    "---\n",
    "\n",
    "# df= dataframe for juvenile group\n",
    "### ethnic_group : Dataframe of .counts() of df, grouped by race/status_type**\n",
    "+ what is the % breakdown of male/female juvenile arrests? \n",
    "    + adults: 76/24\n",
    "   + juvies: 73/27\n",
    "    "
   ]
  },
  {
   "cell_type": "code",
   "execution_count": 60,
   "metadata": {
    "collapsed": false
   },
   "outputs": [],
   "source": [
    "df = frame[frame['age_group']=='juvenile']"
   ]
  },
  {
   "cell_type": "code",
   "execution_count": 61,
   "metadata": {
    "collapsed": false
   },
   "outputs": [
    {
     "name": "stdout",
     "output_type": "stream",
     "text": [
      "% male juveniles is: 73.0%\n",
      "% female juveniles is: 27.0%\n"
     ]
    }
   ],
   "source": [
    "########### GENDER BREAKDOWN ################\n",
    "juv_m = 100*float(df.gender[df['gender']=='male'].count())/float(df.gender.count())\n",
    "juv_f =100*float(df.gender[df['gender']=='female'].count())/float(df.gender.count())\n",
    "print( \"% male juveniles is: {}%\".format(round(juv_m)))\n",
    "print( \"% female juveniles is: {}%\".format(round(juv_f)))"
   ]
  },
  {
   "cell_type": "code",
   "execution_count": 9,
   "metadata": {
    "collapsed": false
   },
   "outputs": [],
   "source": [
    "#df['race_or_ethnicity'].value_counts()"
   ]
  },
  {
   "cell_type": "code",
   "execution_count": 62,
   "metadata": {
    "collapsed": true
   },
   "outputs": [],
   "source": [
    "# remove the values for unknown/ suppressed ethnicity\n",
    "# work with a smaller DataFrame\n",
    "\n",
    "df = df[df.race_or_ethnicity !='suppressed_due_to_privacy_concern']\n",
    "df_status =df[['race_or_ethnicity','status_type','gender']]#, 'disposition'"
   ]
  },
  {
   "cell_type": "code",
   "execution_count": 63,
   "metadata": {
    "collapsed": false
   },
   "outputs": [
    {
     "data": {
      "text/html": [
       "<div>\n",
       "<table border=\"1\" class=\"dataframe\">\n",
       "  <thead>\n",
       "    <tr>\n",
       "      <th></th>\n",
       "      <th colspan=\"3\" halign=\"left\">gender</th>\n",
       "    </tr>\n",
       "    <tr>\n",
       "      <th>status_type</th>\n",
       "      <th>booked</th>\n",
       "      <th>cited</th>\n",
       "      <th>other</th>\n",
       "    </tr>\n",
       "    <tr>\n",
       "      <th>race_or_ethnicity</th>\n",
       "      <th></th>\n",
       "      <th></th>\n",
       "      <th></th>\n",
       "    </tr>\n",
       "  </thead>\n",
       "  <tbody>\n",
       "    <tr>\n",
       "      <th>Asian/Pacific Islander</th>\n",
       "      <td>634</td>\n",
       "      <td>1099</td>\n",
       "      <td>555</td>\n",
       "    </tr>\n",
       "    <tr>\n",
       "      <th>Black</th>\n",
       "      <td>8299</td>\n",
       "      <td>5144</td>\n",
       "      <td>2300</td>\n",
       "    </tr>\n",
       "    <tr>\n",
       "      <th>Hispanic</th>\n",
       "      <td>16253</td>\n",
       "      <td>16578</td>\n",
       "      <td>7236</td>\n",
       "    </tr>\n",
       "    <tr>\n",
       "      <th>Other</th>\n",
       "      <td>816</td>\n",
       "      <td>1142</td>\n",
       "      <td>331</td>\n",
       "    </tr>\n",
       "    <tr>\n",
       "      <th>White</th>\n",
       "      <td>5167</td>\n",
       "      <td>5964</td>\n",
       "      <td>3036</td>\n",
       "    </tr>\n",
       "  </tbody>\n",
       "</table>\n",
       "</div>"
      ],
      "text/plain": [
       "                       gender             \n",
       "status_type            booked  cited other\n",
       "race_or_ethnicity                         \n",
       "Asian/Pacific Islander    634   1099   555\n",
       "Black                    8299   5144  2300\n",
       "Hispanic                16253  16578  7236\n",
       "Other                     816   1142   331\n",
       "White                    5167   5964  3036"
      ]
     },
     "execution_count": 63,
     "metadata": {},
     "output_type": "execute_result"
    }
   ],
   "source": [
    "#group smaller ata frame by RACE/STATUS\n",
    "group_disp=df_status.groupby(['race_or_ethnicity','status_type'])\n",
    "ethnic_group = group_disp.count().unstack()\n",
    "ethnic_group"
   ]
  },
  {
   "cell_type": "markdown",
   "metadata": {},
   "source": [
    "+ I now have a **multi-index DATAFRAME** \n",
    "+ level 0 = 'gender' for all columns\n",
    "+ level 1 = 'booked' 'cited' and 'other' "
   ]
  },
  {
   "cell_type": "code",
   "execution_count": 64,
   "metadata": {
    "collapsed": false
   },
   "outputs": [
    {
     "data": {
      "text/plain": [
       "Index([u'booked', u'cited', u'other'], dtype='object', name=u'status_type')"
      ]
     },
     "execution_count": 64,
     "metadata": {},
     "output_type": "execute_result"
    }
   ],
   "source": [
    "# can I remove the \"gender level\" \n",
    "ethnic_group.columns.get_level_values(0)\n",
    "ethnic_group.columns.get_level_values(1)"
   ]
  },
  {
   "cell_type": "code",
   "execution_count": 65,
   "metadata": {
    "collapsed": false
   },
   "outputs": [
    {
     "data": {
      "text/html": [
       "<div>\n",
       "<table border=\"1\" class=\"dataframe\">\n",
       "  <thead>\n",
       "    <tr style=\"text-align: right;\">\n",
       "      <th>status_type</th>\n",
       "      <th>booked</th>\n",
       "      <th>cited</th>\n",
       "      <th>other</th>\n",
       "    </tr>\n",
       "    <tr>\n",
       "      <th>race_or_ethnicity</th>\n",
       "      <th></th>\n",
       "      <th></th>\n",
       "      <th></th>\n",
       "    </tr>\n",
       "  </thead>\n",
       "  <tbody>\n",
       "    <tr>\n",
       "      <th>Asian/Pacific Islander</th>\n",
       "      <td>634</td>\n",
       "      <td>1099</td>\n",
       "      <td>555</td>\n",
       "    </tr>\n",
       "    <tr>\n",
       "      <th>Black</th>\n",
       "      <td>8299</td>\n",
       "      <td>5144</td>\n",
       "      <td>2300</td>\n",
       "    </tr>\n",
       "    <tr>\n",
       "      <th>Hispanic</th>\n",
       "      <td>16253</td>\n",
       "      <td>16578</td>\n",
       "      <td>7236</td>\n",
       "    </tr>\n",
       "    <tr>\n",
       "      <th>Other</th>\n",
       "      <td>816</td>\n",
       "      <td>1142</td>\n",
       "      <td>331</td>\n",
       "    </tr>\n",
       "    <tr>\n",
       "      <th>White</th>\n",
       "      <td>5167</td>\n",
       "      <td>5964</td>\n",
       "      <td>3036</td>\n",
       "    </tr>\n",
       "  </tbody>\n",
       "</table>\n",
       "</div>"
      ],
      "text/plain": [
       "status_type             booked  cited  other\n",
       "race_or_ethnicity                           \n",
       "Asian/Pacific Islander     634   1099    555\n",
       "Black                     8299   5144   2300\n",
       "Hispanic                 16253  16578   7236\n",
       "Other                      816   1142    331\n",
       "White                     5167   5964   3036"
      ]
     },
     "execution_count": 65,
     "metadata": {},
     "output_type": "execute_result"
    }
   ],
   "source": [
    "## Reduce the number of **LEVELS** in DF\n",
    "ethnic_group = ethnic_group.gender\n",
    "ethnic_group"
   ]
  },
  {
   "cell_type": "code",
   "execution_count": 14,
   "metadata": {
    "collapsed": false
   },
   "outputs": [
    {
     "data": {
      "text/plain": [
       "<bound method DataFrame.info of status_type             booked  cited  other\n",
       "race_or_ethnicity                           \n",
       "Asian/Pacific Islander     634   1099    555\n",
       "Black                     8299   5144   2300\n",
       "Hispanic                 16253  16578   7236\n",
       "Other                      816   1142    331\n",
       "White                     5167   5964   3036>"
      ]
     },
     "execution_count": 14,
     "metadata": {},
     "output_type": "execute_result"
    }
   ],
   "source": [
    "ethnic_group.info"
   ]
  },
  {
   "cell_type": "markdown",
   "metadata": {},
   "source": [
    "## Plot1: "
   ]
  },
  {
   "cell_type": "code",
   "execution_count": 66,
   "metadata": {
    "collapsed": true
   },
   "outputs": [],
   "source": [
    "############ Variables for plot #########\n",
    "    ## Long way of doing it\n",
    "    #xlabel = [str(a) for a in ethnic_group.index.unique()]\n",
    "xlabel=list(ethnic_group.index)\n",
    "# Add Newline character to Pacific Islander so it labels better\n",
    "xlabel[0]=\"Asian/\\nPacific Islander\" "
   ]
  },
  {
   "cell_type": "code",
   "execution_count": 67,
   "metadata": {
    "collapsed": false
   },
   "outputs": [
    {
     "data": {
      "image/png": "[encoded data removed]",
      "text/plain": [
       "<matplotlib.figure.Figure at 0x1099f1c50>"
      ]
     },
     "metadata": {},
     "output_type": "display_data"
    }
   ],
   "source": [
    "############## Plot 1 ####################\n",
    "#mpl.style.use('fivethirtyeight') \n",
    "mpl.style.use('ggplot') \n",
    "\n",
    "\n",
    "x = np.arange(0, ethnic_group.index.unique().size)\n",
    "wid=0.3\n",
    "\n",
    "fig, ax = plt.subplots()\n",
    "# ethnic group as labels on bar PLOT\n",
    "#xlabel= [str(a) for a in ethnic_group.index.unique()]\n",
    "\n",
    "plt.bar(x, ethnic_group.booked, wid, label='booked') # bar plot + move to right for better visibility\n",
    "# put labels on bar graph \n",
    "plt.bar(x+wid, ethnic_group.cited, wid, label='cited', color='lightslategrey')\n",
    "plt.bar(x+ 2*wid, ethnic_group.other, wid, label='other', color='coral')\n",
    "\n",
    "plt.xticks(x + 1.5*wid, xlabel)\n",
    "ax.legend(bbox_to_anchor=(1.3, 1.0), title='status_type')\n",
    "plt.title('Actions taken against juveniles at the Police station \\n by Ethnic Group'\n",
    "         ,fontsize=14)\n",
    "plt.show()"
   ]
  },
  {
   "cell_type": "markdown",
   "metadata": {},
   "source": [
    "**A few observations on the data**\n",
    "Looking at the preliminary data, it appears as if arrested Black juveniles get booked at disproportionally higher rates than other ethnic groups. It is the only group that has more 'booked' statuses than mere citations </br>\n",
    "+ plot percentages:\n",
    "+ to put the actions booked/cited on the same scale\n",
    "+ what about gender? is there discrepancy in books/cited action in gender across the ethnic groups"
   ]
  },
  {
   "cell_type": "code",
   "execution_count": 20,
   "metadata": {
    "collapsed": false
   },
   "outputs": [],
   "source": [
    "####### create a NEW dataFrame using .copy ##############\n",
    "stat_p = ethnic_group[['booked']].copy()\n",
    "\n",
    "#rename a column\n",
    "#stat_p =stat_p.rename(columns={'booked': 'booked %'})\n",
    "\n",
    "stat_p[['cited %]] = ethnic_group[['cited']].copy()\n",
    "stat_p[['other %']] = ethnic_group[['other']].copy()"
   ]
  },
  {
   "cell_type": "markdown",
   "metadata": {},
   "source": [
    "## New DataFrame of % of status type, by ethnic group\n",
    "+ if you don't change the total sum, in each row, can use groupby\n",
    "    + like here : http://stackoverflow.com/questions/23377108/pandas-percentage-of-total-with-groupby\n",
    "+ but since I\"m doing it as a % of each group\n",
    "+ DO NEED a for loop possibly \n"
   ]
  },
  {
   "cell_type": "code",
   "execution_count": 85,
   "metadata": {
    "collapsed": false
   },
   "outputs": [],
   "source": [
    "###### testing ######\n",
    "# if you don't change the overall sum \n",
    "#stat_p[['booked']].apply(lambda x:100*x/ethnic_group.booked.sum())"
   ]
  },
  {
   "cell_type": "code",
   "execution_count": 68,
   "metadata": {
    "collapsed": false
   },
   "outputs": [],
   "source": [
    "############ 1 way of doing %ages ###############\n",
    "\n",
    "cols = list(ethnic_group.columns)\n",
    "asian_p = []; black_p = []; hisp_p = []; other_p = [] ;white_p = []\n",
    "\n",
    "def percent_status(e_group, mylist):\n",
    "    for a in ethnic_group.loc[e_group]:\n",
    "        mylist.append( 100*float(a) / float(ethnic_group.loc[e_group].sum()))\n",
    "    return mylist\n",
    "   \n",
    "asian = percent_status(list(ethnic_group.index)[0], asian_p)\n",
    "black = percent_status(list(ethnic_group.index)[1], black_p)\n",
    "hisp  = percent_status(list(ethnic_group.index)[2], hisp_p)\n",
    "other = percent_status(list(ethnic_group.index)[3], other_p)\n",
    "white = percent_status(list(ethnic_group.index)[4], white_p)"
   ]
  },
  {
   "cell_type": "code",
   "execution_count": 69,
   "metadata": {
    "collapsed": false
   },
   "outputs": [],
   "source": [
    "############## Create DataFrame of percentages ##############\n",
    "    # using .from_items\n",
    "status_percent = pd.DataFrame.from_items([('Asian/Pacific Islander', asian), ('Black', black),\n",
    "                                         ('Hispanic', hisp), ('Other',other), ('White',white)]\n",
    "                              ,orient='index', columns=['booked %', 'cited % ', 'other %'] )"
   ]
  },
  {
   "cell_type": "code",
   "execution_count": 70,
   "metadata": {
    "collapsed": false
   },
   "outputs": [
    {
     "data": {
      "text/plain": [
       "Asian/Pacific Islander    27.71\n",
       "Black                     52.72\n",
       "Hispanic                  40.56\n",
       "Other                     35.65\n",
       "White                     36.47\n",
       "Name: booked %, dtype: float64"
      ]
     },
     "execution_count": 70,
     "metadata": {},
     "output_type": "execute_result"
    }
   ],
   "source": [
    "status_percent = status_percent.round(2)\n",
    "status_percent['booked %']"
   ]
  },
  {
   "cell_type": "markdown",
   "metadata": {},
   "source": [
    "## bar plot of status_type percentages, grouped by ethnic group"
   ]
  },
  {
   "cell_type": "code",
   "execution_count": 71,
   "metadata": {
    "collapsed": false
   },
   "outputs": [
    {
     "data": {
      "image/png": "[encoded data removed]",
      "text/plain": [
       "<matplotlib.figure.Figure at 0x109819850>"
      ]
     },
     "metadata": {},
     "output_type": "display_data"
    }
   ],
   "source": [
    "xlabel = list(status_percent.index)\n",
    "xlabel[0] = \"Asian/\\nPacific Islander\"\n",
    "\n",
    "############## Plot 2 ####################\n",
    "x = np.arange(0, status_percent.index.unique().size)\n",
    "wid=0.3\n",
    "\n",
    "fig, ax = plt.subplots()\n",
    "\n",
    "ax.bar(x, status_percent['booked %'], wid, label='booked %')\n",
    "ax.bar(x+wid, status_percent['cited % '], wid, label='cited %', color='lightslategrey')\n",
    "ax.bar(x+wid+0.3, status_percent['other %'], wid, label='other %', color='coral')\n",
    "\n",
    "ax.legend(bbox_to_anchor=(1.4,1), title='Status_type')\n",
    "\n",
    "############### add labels to BARS on X-axis #################\n",
    "    # remember to add to pyplot object (AxesSubplot' object has no attribute 'xticks')\n",
    "plt.xticks(x+wid, xlabel)\n",
    "\n",
    "############### format Y-Axis as Percentage ###############\n",
    "vals = ax.get_yticks()\n",
    "ax.set_yticklabels(['{:3.2f}%'.format(x) for x in vals])\n",
    "\n",
    "plt.title(\"Status_type: Action At Police station  \\n as %age by Ethnic Group\")\n",
    "plt.show()"
   ]
  },
  {
   "cell_type": "markdown",
   "metadata": {},
   "source": [
    "** Observations ** <br>\n",
    "More than 50% of all Black Juveniles are booked when in Police Custody, which is arguably the harshest punishment. It's unclear(?) what 'Oher' means, but it applies most to Asian/Pacific Islander and White Juveniles. \n",
    "The highest rate of Cited status applies to Asian and other, ethnic groups. \n",
    "\n",
    "## As a percentage of total status_type categories, booked, cited etc ** "
   ]
  },
  {
   "cell_type": "code",
   "execution_count": 72,
   "metadata": {
    "collapsed": false
   },
   "outputs": [
    {
     "data": {
      "text/plain": [
       "[31169, 29927, 13458]"
      ]
     },
     "execution_count": 72,
     "metadata": {},
     "output_type": "execute_result"
    }
   ],
   "source": [
    "stat_type_sum = [ethnic_group[a].sum() for a in ethnic_group.columns]\n",
    "stat_type_sum # sum of all incidents of (booking, citing, other)"
   ]
  },
  {
   "cell_type": "code",
   "execution_count": 75,
   "metadata": {
    "collapsed": false
   },
   "outputs": [
    {
     "name": "stdout",
     "output_type": "stream",
     "text": [
      "7236\n",
      "Hispanic: 0.537672759697 % \n"
     ]
    }
   ],
   "source": [
    "print (ethnic_group.loc['Hispanic', 'other']) \n",
    "print (\"Hispanic: {} % \".format( float (ethnic_group.loc['Hispanic', 'other'])/ethnic_group.other.sum()) )"
   ]
  },
  {
   "cell_type": "code",
   "execution_count": 76,
   "metadata": {
    "collapsed": false
   },
   "outputs": [
    {
     "data": {
      "text/html": [
       "<div>\n",
       "<table border=\"1\" class=\"dataframe\">\n",
       "  <thead>\n",
       "    <tr style=\"text-align: right;\">\n",
       "      <th>status_type</th>\n",
       "      <th>booked</th>\n",
       "      <th>cited</th>\n",
       "      <th>other</th>\n",
       "    </tr>\n",
       "    <tr>\n",
       "      <th>race_or_ethnicity</th>\n",
       "      <th></th>\n",
       "      <th></th>\n",
       "      <th></th>\n",
       "    </tr>\n",
       "  </thead>\n",
       "  <tbody>\n",
       "    <tr>\n",
       "      <th>Asian/Pacific Islander</th>\n",
       "      <td>634</td>\n",
       "      <td>1099</td>\n",
       "      <td>555</td>\n",
       "    </tr>\n",
       "    <tr>\n",
       "      <th>Black</th>\n",
       "      <td>8299</td>\n",
       "      <td>5144</td>\n",
       "      <td>2300</td>\n",
       "    </tr>\n",
       "    <tr>\n",
       "      <th>Hispanic</th>\n",
       "      <td>16253</td>\n",
       "      <td>16578</td>\n",
       "      <td>7236</td>\n",
       "    </tr>\n",
       "    <tr>\n",
       "      <th>Other</th>\n",
       "      <td>816</td>\n",
       "      <td>1142</td>\n",
       "      <td>331</td>\n",
       "    </tr>\n",
       "    <tr>\n",
       "      <th>White</th>\n",
       "      <td>5167</td>\n",
       "      <td>5964</td>\n",
       "      <td>3036</td>\n",
       "    </tr>\n",
       "  </tbody>\n",
       "</table>\n",
       "</div>"
      ],
      "text/plain": [
       "status_type             booked  cited  other\n",
       "race_or_ethnicity                           \n",
       "Asian/Pacific Islander     634   1099    555\n",
       "Black                     8299   5144   2300\n",
       "Hispanic                 16253  16578   7236\n",
       "Other                      816   1142    331\n",
       "White                     5167   5964   3036"
      ]
     },
     "execution_count": 76,
     "metadata": {},
     "output_type": "execute_result"
    }
   ],
   "source": [
    "ethnic_group\n"
   ]
  },
  {
   "cell_type": "code",
   "execution_count": 77,
   "metadata": {
    "collapsed": false
   },
   "outputs": [],
   "source": [
    "############ 2nd way of doing %ages ###############\n",
    "    # Note: Stat_p, is a new DF \n",
    "stat_p = ethnic_group[['booked']].apply(lambda x:100*x/float(ethnic_group.booked.sum()))\n",
    "stat_p['cited %']= ethnic_group[['cited']].apply(lambda x:100*x/float(ethnic_group.cited.sum()))\n",
    "stat_p['other %']= ethnic_group[['other']].apply(lambda x:100*x/float(ethnic_group.other.sum()))\n",
    "stat_p = stat_p.rename(columns={'booked': 'booked %'})"
   ]
  },
  {
   "cell_type": "code",
   "execution_count": 78,
   "metadata": {
    "collapsed": false
   },
   "outputs": [
    {
     "data": {
      "text/html": [
       "<div>\n",
       "<table border=\"1\" class=\"dataframe\">\n",
       "  <thead>\n",
       "    <tr style=\"text-align: right;\">\n",
       "      <th>race_or_ethnicity</th>\n",
       "      <th>Asian/Pacific Islander</th>\n",
       "      <th>Black</th>\n",
       "      <th>Hispanic</th>\n",
       "      <th>Other</th>\n",
       "      <th>White</th>\n",
       "    </tr>\n",
       "    <tr>\n",
       "      <th>status_type</th>\n",
       "      <th></th>\n",
       "      <th></th>\n",
       "      <th></th>\n",
       "      <th></th>\n",
       "      <th></th>\n",
       "    </tr>\n",
       "  </thead>\n",
       "  <tbody>\n",
       "    <tr>\n",
       "      <th>booked %</th>\n",
       "      <td>2.03</td>\n",
       "      <td>26.63</td>\n",
       "      <td>52.14</td>\n",
       "      <td>2.62</td>\n",
       "      <td>16.58</td>\n",
       "    </tr>\n",
       "    <tr>\n",
       "      <th>cited %</th>\n",
       "      <td>3.67</td>\n",
       "      <td>17.19</td>\n",
       "      <td>55.39</td>\n",
       "      <td>3.82</td>\n",
       "      <td>19.93</td>\n",
       "    </tr>\n",
       "    <tr>\n",
       "      <th>other %</th>\n",
       "      <td>4.12</td>\n",
       "      <td>17.09</td>\n",
       "      <td>53.77</td>\n",
       "      <td>2.46</td>\n",
       "      <td>22.56</td>\n",
       "    </tr>\n",
       "  </tbody>\n",
       "</table>\n",
       "</div>"
      ],
      "text/plain": [
       "race_or_ethnicity  Asian/Pacific Islander  Black  Hispanic  Other  White\n",
       "status_type                                                             \n",
       "booked %                             2.03  26.63     52.14   2.62  16.58\n",
       "cited %                              3.67  17.19     55.39   3.82  19.93\n",
       "other %                              4.12  17.09     53.77   2.46  22.56"
      ]
     },
     "execution_count": 78,
     "metadata": {},
     "output_type": "execute_result"
    }
   ],
   "source": [
    "## Round to two decimal points + transpose\n",
    "stat_p =stat_p.round(2).transpose()\n",
    "stat_p"
   ]
  },
  {
   "cell_type": "markdown",
   "metadata": {},
   "source": [
    "Note that black youths make up ____ % of all arrests, however make up 26.6% of all youths who are booked "
   ]
  },
  {
   "cell_type": "code",
   "execution_count": 66,
   "metadata": {
    "collapsed": false
   },
   "outputs": [
    {
     "name": "stdout",
     "output_type": "stream",
     "text": [
      "0 Asian/Pacific Islander\n",
      "1 Black\n",
      "2 Hispanic\n",
      "3 Other\n",
      "4 White\n"
     ]
    }
   ],
   "source": [
    "#### what is enumerate? very very useful! ### \n",
    "#stat_p.loc[str(xlabel[0])]\n",
    "#for a in range(0, len(list(stat_p.columns)) ):\n",
    "    #print stat_p[ylabel[a]]\n",
    "    \n",
    "for a, b in enumerate(list(stat_p.columns)):\n",
    "    print a, b"
   ]
  },
  {
   "cell_type": "markdown",
   "metadata": {},
   "source": [
    "### bar plot of status_type percentages, grouped by status_type"
   ]
  },
  {
   "cell_type": "code",
   "execution_count": 79,
   "metadata": {
    "collapsed": true
   },
   "outputs": [],
   "source": [
    "colors = ['royalblue', 'coral', 'seagreen', 'tan','teal' ]"
   ]
  },
  {
   "cell_type": "code",
   "execution_count": 88,
   "metadata": {
    "collapsed": false
   },
   "outputs": [
    {
     "data": {
      "text/html": [
       "<div>\n",
       "<table border=\"1\" class=\"dataframe\">\n",
       "  <thead>\n",
       "    <tr style=\"text-align: right;\">\n",
       "      <th>race_or_ethnicity</th>\n",
       "      <th>Asian/Pacific Islander</th>\n",
       "      <th>Black</th>\n",
       "      <th>Hispanic</th>\n",
       "      <th>Other</th>\n",
       "      <th>White</th>\n",
       "    </tr>\n",
       "    <tr>\n",
       "      <th>status_type</th>\n",
       "      <th></th>\n",
       "      <th></th>\n",
       "      <th></th>\n",
       "      <th></th>\n",
       "      <th></th>\n",
       "    </tr>\n",
       "  </thead>\n",
       "  <tbody>\n",
       "    <tr>\n",
       "      <th>booked %</th>\n",
       "      <td>2.03</td>\n",
       "      <td>26.63</td>\n",
       "      <td>52.14</td>\n",
       "      <td>2.62</td>\n",
       "      <td>16.58</td>\n",
       "    </tr>\n",
       "    <tr>\n",
       "      <th>cited %</th>\n",
       "      <td>3.67</td>\n",
       "      <td>17.19</td>\n",
       "      <td>55.39</td>\n",
       "      <td>3.82</td>\n",
       "      <td>19.93</td>\n",
       "    </tr>\n",
       "    <tr>\n",
       "      <th>other %</th>\n",
       "      <td>4.12</td>\n",
       "      <td>17.09</td>\n",
       "      <td>53.77</td>\n",
       "      <td>2.46</td>\n",
       "      <td>22.56</td>\n",
       "    </tr>\n",
       "  </tbody>\n",
       "</table>\n",
       "</div>"
      ],
      "text/plain": [
       "race_or_ethnicity  Asian/Pacific Islander  Black  Hispanic  Other  White\n",
       "status_type                                                             \n",
       "booked %                             2.03  26.63     52.14   2.62  16.58\n",
       "cited %                              3.67  17.19     55.39   3.82  19.93\n",
       "other %                              4.12  17.09     53.77   2.46  22.56"
      ]
     },
     "execution_count": 88,
     "metadata": {},
     "output_type": "execute_result"
    }
   ],
   "source": [
    "stat_p"
   ]
  },
  {
   "cell_type": "code",
   "execution_count": null,
   "metadata": {
    "collapsed": true
   },
   "outputs": [],
   "source": []
  },
  {
   "cell_type": "code",
   "execution_count": 94,
   "metadata": {
    "collapsed": false
   },
   "outputs": [
    {
     "data": {
      "image/png": "[encoded data removed]",
      "text/plain": [
       "<matplotlib.figure.Figure at 0x10c7b5750>"
      ]
     },
     "metadata": {},
     "output_type": "display_data"
    }
   ],
   "source": [
    "ylabel = list(stat_p.columns)\n",
    "xlabel = list(stat_p.index)\n",
    "\n",
    "############## Plot 3 ####################\n",
    "x = np.arange(0, stat_p.index.unique().size)\n",
    "wid=0.15\n",
    "\n",
    "fig, ax = plt.subplots(figsize=(10,6))\n",
    "\n",
    "##################  METHOD 1: bar plots of the columns of stat_p ###\n",
    "#for a in range(0, len(list(stat_p.columns)) ):\n",
    "    # ax.bar(x, stat_p[ylabel[a] ], wid, label=str(ylabel[a]))\n",
    "##############  METHOD 2:  \n",
    "for a, b in enumerate(list(stat_p.columns)):\n",
    "    ax.bar(x+(a*0.15), stat_p[b], wid, label=str(ylabel[a]), color=colors[a] )\n",
    "    \n",
    "ax.legend(bbox_to_anchor=(1.35,1), title='status_type')\n",
    "############### add labels to BARS on X-axis #################\n",
    "plt.xticks(x+wid, xlabel)\n",
    "\n",
    "############### annotate bar plot ############### \n",
    "#ax.annotate( str(get.height))\n",
    "for p in ax.patches:\n",
    "    ax.annotate(str(p.get_height()), xy=(p.get_x(), p.get_height()))\n",
    "\n",
    "    \n",
    "############### format Y-Axis as Percentage ###############\n",
    "vals = ax.get_yticks()\n",
    "ax.set_yticklabels(['{:3.1f}%'.format(x) for x in vals])\n",
    "\n",
    "plt.title(\"Status_type: Action At Police station %age \\n grouped by status_type\")\n",
    "\n",
    "#### save fig ###\n",
    "#plt.savefig('plot3_PercentByStatus.png', bbox_inches='tight',pad_inches=.2)\n",
    "plt.show()"
   ]
  },
  {
   "cell_type": "code",
   "execution_count": 103,
   "metadata": {
    "collapsed": false
   },
   "outputs": [
    {
     "data": {
      "image/png": "[encoded data removed]",
      "text/plain": [
       "<matplotlib.figure.Figure at 0x111fdaf10>"
      ]
     },
     "metadata": {},
     "output_type": "display_data"
    }
   ],
   "source": [
    "xlabel = list(stat_p.index); xlabel[0] = \"Asian/\\nPacific Islander\"\n",
    "############## Plot 3 (ONLY for stat_p.index = race/ethnicity,) ####################\n",
    "x = np.arange(0, status_percent.index.unique().size); wid=0.3\n",
    "fig, ax = plt.subplots(figsize=(5,3))\n",
    "ax.bar(x, stat_p['booked %'], wid, label='booked %')\n",
    "ax.bar(x+wid, stat_p['cited %'], wid, label='cited %', color='lightslategrey')\n",
    "ax.bar(x+wid+0.3, stat_p['other %'], wid, label='other %', color='coral')\n",
    "ax.legend(bbox_to_anchor=(1.4,1), title='status_type')\n",
    "############### add labels to BARS on X-axis #################\n",
    "    # remember to add to pyplot object (AxesSubplot' object has no attribute 'xticks')\n",
    "plt.xticks(x+wid, xlabel)\n",
    "############### format Y-Axis as Percentage ###############\n",
    "vals = ax.get_yticks()\n",
    "ax.set_yticklabels(['{:3.1f}%'.format(x) for x in vals])\n",
    "plt.title(\"Status_type: Action At Police station %age \\n grouped by status_type\"); plt.show()"
   ]
  },
  {
   "cell_type": "code",
   "execution_count": null,
   "metadata": {
    "collapsed": true
   },
   "outputs": [],
   "source": []
  },
  {
   "cell_type": "code",
   "execution_count": null,
   "metadata": {
    "collapsed": true
   },
   "outputs": [],
   "source": []
  },
  {
   "cell_type": "code",
   "execution_count": 32,
   "metadata": {
    "collapsed": false
   },
   "outputs": [],
   "source": [
    "################ DIFFERENTLY ORIENTED DATA FRAME ##############\n",
    "# I end up not using this data frame\n",
    "status_df = group_disp.count().unstack(level=0)\n",
    "status_df = status_df.gender"
   ]
  },
  {
   "cell_type": "code",
   "execution_count": null,
   "metadata": {
    "collapsed": true
   },
   "outputs": [],
   "source": [
    "########### GENDER BREAKDOWN ################\n",
    "juv_m = 100*float(df.gender[df['gender']=='male'].count())/float(df.gender.count())\n",
    "juv_f =100*float(df.gender[df['gender']=='female'].count())/float(df.gender.count())\n",
    "print( \"% male juveniles is: {}%\".format(round(juv_m)))\n",
    "print( \"% female juveniles is: {}%\".format(round(juv_f)))"
   ]
  },
  {
   "cell_type": "code",
   "execution_count": null,
   "metadata": {
    "collapsed": true
   },
   "outputs": [],
   "source": []
  },
  {
   "cell_type": "markdown",
   "metadata": {},
   "source": [
    "## Total number of arrests made\n",
    "(in Azure Notebook) \n",
    "For Juveniles, what % of all arrests made for each ethnic group? "
   ]
  },
  {
   "cell_type": "code",
   "execution_count": 34,
   "metadata": {
    "collapsed": false
   },
   "outputs": [
    {
     "data": {
      "text/plain": [
       "array(['juvenile'], dtype=object)"
      ]
     },
     "execution_count": 34,
     "metadata": {},
     "output_type": "execute_result"
    }
   ],
   "source": [
    "#df.race_or_ethnicity=='Black'\n",
    "df.age_group.unique()"
   ]
  },
  {
   "cell_type": "code",
   "execution_count": 42,
   "metadata": {
    "collapsed": false
   },
   "outputs": [
    {
     "name": "stdout",
     "output_type": "stream",
     "text": [
      "[40067, 15743, 14167, 2289, 2288]\n",
      "['Hispanic', 'Black', 'White', 'Other', 'Asian/Pacific Islander']\n"
     ]
    }
   ],
   "source": [
    "ethnic_vals = list(df.race_or_ethnicity.value_counts())\n",
    "ethnic_list = list(df.race_or_ethnicity.value_counts().index)\n",
    "print (ethnic_vals)\n",
    "print (ethnic_list)"
   ]
  },
  {
   "cell_type": "code",
   "execution_count": 57,
   "metadata": {
    "collapsed": false
   },
   "outputs": [
    {
     "data": {
      "text/plain": [
       "Hispanic                  40067\n",
       "Black                     15743\n",
       "White                     14167\n",
       "Other                      2289\n",
       "Asian/Pacific Islander     2288\n",
       "Name: race_or_ethnicity, dtype: int64"
      ]
     },
     "execution_count": 57,
     "metadata": {},
     "output_type": "execute_result"
    }
   ],
   "source": [
    "df.race_or_ethnicity.value_counts()"
   ]
  },
  {
   "cell_type": "code",
   "execution_count": 95,
   "metadata": {
    "collapsed": false
   },
   "outputs": [],
   "source": [
    "arrest_p = []\n",
    "for a in range(0, len(ethnic_list)): \n",
    "    arrest_p.append((100* float(ethnic_vals[a])/ float(df.race_or_ethnicity.count())) ) \n"
   ]
  },
  {
   "cell_type": "code",
   "execution_count": 130,
   "metadata": {
    "collapsed": false
   },
   "outputs": [
    {
     "data": {
      "text/plain": [
       "[53.74, 21.12, 19.0, 3.07, 3.07]"
      ]
     },
     "execution_count": 130,
     "metadata": {},
     "output_type": "execute_result"
    }
   ],
   "source": [
    "arrest_p = [round(a,2) for a in arrest_p]"
   ]
  },
  {
   "cell_type": "code",
   "execution_count": 131,
   "metadata": {
    "collapsed": false
   },
   "outputs": [
    {
     "data": {
      "text/plain": [
       "[('Hispanic', 53.74),\n",
       " ('Black', 21.12),\n",
       " ('White', 19.0),\n",
       " ('Other', 3.07),\n",
       " ('Asian/Pacific Islander', 3.07)]"
      ]
     },
     "execution_count": 131,
     "metadata": {},
     "output_type": "execute_result"
    }
   ],
   "source": [
    "### 1: create a tuple from arrest_p and ethnic_list\n",
    "arrestP = zip(ethnic_list,arrest_p)\n",
    "arrestP"
   ]
  },
  {
   "cell_type": "code",
   "execution_count": 132,
   "metadata": {
    "collapsed": false
   },
   "outputs": [],
   "source": [
    "### 2: create a DataFrame from a list of tuples\n",
    "arrest_df = pd.DataFrame(arrestP, columns = (\"none\", 'arrest %'))\n",
    "arrest_df.index=arrest_df['none']\n",
    "arrest_df = arrest_df.drop('none', 1 )\n",
    "arrest_df = arrest_df.rename(columns={\"1\": \"arrest %\"})"
   ]
  },
  {
   "cell_type": "code",
   "execution_count": 133,
   "metadata": {
    "collapsed": false
   },
   "outputs": [
    {
     "data": {
      "text/html": [
       "<div>\n",
       "<table border=\"1\" class=\"dataframe\">\n",
       "  <thead>\n",
       "    <tr style=\"text-align: right;\">\n",
       "      <th></th>\n",
       "      <th>arrest %</th>\n",
       "    </tr>\n",
       "    <tr>\n",
       "      <th>none</th>\n",
       "      <th></th>\n",
       "    </tr>\n",
       "  </thead>\n",
       "  <tbody>\n",
       "    <tr>\n",
       "      <th>Hispanic</th>\n",
       "      <td>53.74</td>\n",
       "    </tr>\n",
       "    <tr>\n",
       "      <th>Black</th>\n",
       "      <td>21.12</td>\n",
       "    </tr>\n",
       "    <tr>\n",
       "      <th>White</th>\n",
       "      <td>19.00</td>\n",
       "    </tr>\n",
       "    <tr>\n",
       "      <th>Other</th>\n",
       "      <td>3.07</td>\n",
       "    </tr>\n",
       "    <tr>\n",
       "      <th>Asian/Pacific Islander</th>\n",
       "      <td>3.07</td>\n",
       "    </tr>\n",
       "  </tbody>\n",
       "</table>\n",
       "</div>"
      ],
      "text/plain": [
       "                        arrest %\n",
       "none                            \n",
       "Hispanic                   53.74\n",
       "Black                      21.12\n",
       "White                      19.00\n",
       "Other                       3.07\n",
       "Asian/Pacific Islander      3.07"
      ]
     },
     "execution_count": 133,
     "metadata": {},
     "output_type": "execute_result"
    }
   ],
   "source": [
    "arrest_df"
   ]
  },
  {
   "cell_type": "code",
   "execution_count": 152,
   "metadata": {
    "collapsed": false
   },
   "outputs": [
    {
     "data": {
      "text/plain": [
       "'Asian/Pacific Islander'"
      ]
     },
     "execution_count": 152,
     "metadata": {},
     "output_type": "execute_result"
    }
   ],
   "source": [
    "range(0, len(arrest_df.index))\n",
    "xlabel[4]"
   ]
  },
  {
   "cell_type": "code",
   "execution_count": 155,
   "metadata": {
    "collapsed": false
   },
   "outputs": [
    {
     "data": {
      "image/png": "[encoded data removed]",
      "text/plain": [
       "<matplotlib.figure.Figure at 0x10c9b9e90>"
      ]
     },
     "metadata": {},
     "output_type": "display_data"
    }
   ],
   "source": [
    "########### Plot 4: Percentage Arrests by Ethnic group\n",
    "xlabel = list(arrest_df.index); xlabel[4] = 'Asian/\\nPacific Islander'\n",
    "x =  np.arange(0, len(arrest_df.index))\n",
    "wid = 0.3\n",
    "\n",
    "fig, ax = plt.subplots(figsize=(6,4))\n",
    "\n",
    "ax.bar(x, arrest_df['arrest %'], wid)\n",
    "\n",
    "############### annotate bar plot ############### \n",
    "#ax.annotate( str(get.height))\n",
    "for p in ax.patches:\n",
    "    ax.annotate(str(p.get_height()), xy=(p.get_x(), p.get_height()))\n",
    "plt.xticks( x+wid, xlabel)\n",
    "plt.title('Juvenile arrest %, by Ethnic group; 2013')\n",
    "\n",
    "#plt.savefig('plot4_PercentArrests.png', bbox_inches='tight',pad_inches=.2)\n",
    "plt.show()"
   ]
  },
  {
   "cell_type": "code",
   "execution_count": null,
   "metadata": {
    "collapsed": true
   },
   "outputs": [],
   "source": []
  },
  {
   "cell_type": "code",
   "execution_count": 32,
   "metadata": {
    "collapsed": false
   },
   "outputs": [
    {
     "data": {
      "text/plain": [
       "array(['Hispanic', 'Suppressed', 'White', 'Other',\n",
       "       'Asian/\\nPacific Islander'], dtype=object)"
      ]
     },
     "execution_count": 32,
     "metadata": {},
     "output_type": "execute_result"
    }
   ],
   "source": [
    "column = df.race_or_ethnicity.value_counts().index.values\n",
    "column[1] = 'Suppressed'\n",
    "column[4] = 'Asian/\\nPacific Islander'\n",
    "column"
   ]
  },
  {
   "cell_type": "code",
   "execution_count": 37,
   "metadata": {
    "collapsed": false
   },
   "outputs": [
    {
     "data": {
      "image/png": "[encoded data removed]",
      "text/plain": [
       "<matplotlib.figure.Figure at 0x112863950>"
      ]
     },
     "metadata": {},
     "output_type": "display_data"
    }
   ],
   "source": [
    "mpl.style.use('fivethirtyeight') \n",
    "# number of juveniles per each arrest }\n",
    "\n",
    "fig, ax = plt.subplots(figsize=(12,4))\n",
    "\n",
    "x = np.arange(0,df.race_or_ethnicity.unique().size)\n",
    "wid=0.3\n",
    "\n",
    "ax.bar(x,df.race_or_ethnicity.value_counts(), wid, label=df.race_or_ethnicity.value_counts().index)\n",
    "### place labels of bars at bottom, x+0.2 apart\n",
    "plt.xticks(x+0.2, column)\n",
    "plt.title('Juvenile arrests made in 2013') ; plt.show()"
   ]
  },
  {
   "cell_type": "markdown",
   "metadata": {},
   "source": [
    "---\n",
    "***\n",
    "#### Playing with Data Frames\n",
    "(not ALL in Azure Notebook) \n",
    "1. look at following \n"
   ]
  },
  {
   "cell_type": "code",
   "execution_count": 30,
   "metadata": {
    "collapsed": false
   },
   "outputs": [
    {
     "data": {
      "text/html": [
       "<div>\n",
       "<table border=\"1\" class=\"dataframe\">\n",
       "  <thead>\n",
       "    <tr>\n",
       "      <th></th>\n",
       "      <th colspan=\"5\" halign=\"left\">gender</th>\n",
       "    </tr>\n",
       "    <tr>\n",
       "      <th>race_or_ethnicity</th>\n",
       "      <th>Asian/Pacific Islander</th>\n",
       "      <th>Black</th>\n",
       "      <th>Hispanic</th>\n",
       "      <th>Other</th>\n",
       "      <th>White</th>\n",
       "    </tr>\n",
       "    <tr>\n",
       "      <th>status_type</th>\n",
       "      <th></th>\n",
       "      <th></th>\n",
       "      <th></th>\n",
       "      <th></th>\n",
       "      <th></th>\n",
       "    </tr>\n",
       "  </thead>\n",
       "  <tbody>\n",
       "    <tr>\n",
       "      <th>booked</th>\n",
       "      <td>634</td>\n",
       "      <td>8299</td>\n",
       "      <td>16253</td>\n",
       "      <td>816</td>\n",
       "      <td>5167</td>\n",
       "    </tr>\n",
       "    <tr>\n",
       "      <th>cited</th>\n",
       "      <td>1099</td>\n",
       "      <td>5144</td>\n",
       "      <td>16578</td>\n",
       "      <td>1142</td>\n",
       "      <td>5964</td>\n",
       "    </tr>\n",
       "    <tr>\n",
       "      <th>other</th>\n",
       "      <td>555</td>\n",
       "      <td>2300</td>\n",
       "      <td>7236</td>\n",
       "      <td>331</td>\n",
       "      <td>3036</td>\n",
       "    </tr>\n",
       "  </tbody>\n",
       "</table>\n",
       "</div>"
      ],
      "text/plain": [
       "                                  gender                           \n",
       "race_or_ethnicity Asian/Pacific Islander Black Hispanic Other White\n",
       "status_type                                                        \n",
       "booked                               634  8299    16253   816  5167\n",
       "cited                               1099  5144    16578  1142  5964\n",
       "other                                555  2300     7236   331  3036"
      ]
     },
     "execution_count": 30,
     "metadata": {},
     "output_type": "execute_result"
    }
   ],
   "source": [
    "####### another way of unfolding the DataFrame\n",
    "####### Index has name 'status_type' ['booked, cited, other], \n",
    "####### Columns are MultiIndex :: have levels gender/ethnic , labels, and name \n",
    "test = group_disp.count().unstack(level=0)\n",
    "test"
   ]
  },
  {
   "cell_type": "code",
   "execution_count": 32,
   "metadata": {
    "collapsed": false
   },
   "outputs": [
    {
     "data": {
      "text/plain": [
       "Index([u'booked', u'cited', u'other'], dtype='object', name=u'status_type')"
      ]
     },
     "execution_count": 32,
     "metadata": {},
     "output_type": "execute_result"
    }
   ],
   "source": [
    "test.index"
   ]
  },
  {
   "cell_type": "code",
   "execution_count": 35,
   "metadata": {
    "collapsed": false
   },
   "outputs": [
    {
     "data": {
      "text/html": [
       "<div>\n",
       "<table border=\"1\" class=\"dataframe\">\n",
       "  <thead>\n",
       "    <tr style=\"text-align: right;\">\n",
       "      <th>race_or_ethnicity</th>\n",
       "      <th>Asian/Pacific Islander</th>\n",
       "      <th>Black</th>\n",
       "      <th>Hispanic</th>\n",
       "      <th>Other</th>\n",
       "      <th>White</th>\n",
       "    </tr>\n",
       "    <tr>\n",
       "      <th>status_type</th>\n",
       "      <th></th>\n",
       "      <th></th>\n",
       "      <th></th>\n",
       "      <th></th>\n",
       "      <th></th>\n",
       "    </tr>\n",
       "  </thead>\n",
       "  <tbody>\n",
       "    <tr>\n",
       "      <th>booked</th>\n",
       "      <td>634</td>\n",
       "      <td>8299</td>\n",
       "      <td>16253</td>\n",
       "      <td>816</td>\n",
       "      <td>5167</td>\n",
       "    </tr>\n",
       "    <tr>\n",
       "      <th>cited</th>\n",
       "      <td>1099</td>\n",
       "      <td>5144</td>\n",
       "      <td>16578</td>\n",
       "      <td>1142</td>\n",
       "      <td>5964</td>\n",
       "    </tr>\n",
       "    <tr>\n",
       "      <th>other</th>\n",
       "      <td>555</td>\n",
       "      <td>2300</td>\n",
       "      <td>7236</td>\n",
       "      <td>331</td>\n",
       "      <td>3036</td>\n",
       "    </tr>\n",
       "  </tbody>\n",
       "</table>\n",
       "</div>"
      ],
      "text/plain": [
       "race_or_ethnicity  Asian/Pacific Islander  Black  Hispanic  Other  White\n",
       "status_type                                                             \n",
       "booked                                634   8299     16253    816   5167\n",
       "cited                                1099   5144     16578   1142   5964\n",
       "other                                 555   2300      7236    331   3036"
      ]
     },
     "execution_count": 35,
     "metadata": {},
     "output_type": "execute_result"
    }
   ],
   "source": [
    "trans_test = test.gender\n",
    "trans_test"
   ]
  },
  {
   "cell_type": "code",
   "execution_count": 36,
   "metadata": {
    "collapsed": false
   },
   "outputs": [
    {
     "data": {
      "text/plain": [
       "Index([u'Asian/Pacific Islander', u'Black', u'Hispanic', u'Other', u'White'], dtype='object', name=u'race_or_ethnicity')"
      ]
     },
     "execution_count": 36,
     "metadata": {},
     "output_type": "execute_result"
    }
   ],
   "source": [
    "trans_test.columns"
   ]
  },
  {
   "cell_type": "code",
   "execution_count": 38,
   "metadata": {
    "collapsed": false
   },
   "outputs": [
    {
     "data": {
      "text/plain": [
       "Index([u'booked', u'cited', u'other'], dtype='object', name=u'status_type')"
      ]
     },
     "execution_count": 38,
     "metadata": {},
     "output_type": "execute_result"
    }
   ],
   "source": [
    "trans_test.index"
   ]
  },
  {
   "cell_type": "markdown",
   "metadata": {},
   "source": [
    "+ get the row names of Index\n"
   ]
  },
  {
   "cell_type": "code",
   "execution_count": null,
   "metadata": {
    "collapsed": true
   },
   "outputs": [],
   "source": []
  }
 ],
 "metadata": {
  "kernelspec": {
   "display_name": "Python 2",
   "language": "python",
   "name": "python2"
  },
  "language_info": {
   "codemirror_mode": {
    "name": "ipython",
    "version": 2
   },
   "file_extension": ".py",
   "mimetype": "text/x-python",
   "name": "python",
   "nbconvert_exporter": "python",
   "pygments_lexer": "ipython2",
   "version": "2.7.11"
  }
 },
 "nbformat": 4,
 "nbformat_minor": 0
}
